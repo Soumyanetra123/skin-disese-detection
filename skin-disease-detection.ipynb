{
 "cells": [
  {
   "cell_type": "code",
   "execution_count": 1,
   "id": "74ebcf71",
   "metadata": {
    "_cell_guid": "b1076dfc-b9ad-4769-8c92-a6c4dae69d19",
    "_uuid": "8f2839f25d086af736a60e9eeb907d3b93b6e0e5",
    "execution": {
     "iopub.execute_input": "2022-09-28T21:42:27.579890Z",
     "iopub.status.busy": "2022-09-28T21:42:27.578307Z",
     "iopub.status.idle": "2022-09-28T21:42:45.845689Z",
     "shell.execute_reply": "2022-09-28T21:42:45.844602Z"
    },
    "papermill": {
     "duration": 18.281929,
     "end_time": "2022-09-28T21:42:45.848501",
     "exception": false,
     "start_time": "2022-09-28T21:42:27.566572",
     "status": "completed"
    },
    "tags": []
   },
   "outputs": [],
   "source": [
    "import os\n",
    "for dirname, _, filenames in os.walk('/kaggle/input'):\n",
    "    for filename in filenames:\n",
    "        os.path.join(dirname, filename)"
   ]
  },
  {
   "cell_type": "code",
   "execution_count": 3,
   "id": "3b171532",
   "metadata": {
    "execution": {
     "iopub.execute_input": "2022-09-28T21:42:45.865959Z",
     "iopub.status.busy": "2022-09-28T21:42:45.865632Z",
     "iopub.status.idle": "2022-09-28T21:42:52.149366Z",
     "shell.execute_reply": "2022-09-28T21:42:52.148289Z"
    },
    "papermill": {
     "duration": 6.295165,
     "end_time": "2022-09-28T21:42:52.152022",
     "exception": false,
     "start_time": "2022-09-28T21:42:45.856857",
     "status": "completed"
    },
    "tags": []
   },
   "outputs": [],
   "source": [
    "import os\n",
    "import numpy as np\n",
    "import pandas as pd\n",
    "import pickle"
   ]
  },
  {
   "cell_type": "code",
   "execution_count": 4,
   "id": "867b6e14",
   "metadata": {
    "execution": {
     "iopub.execute_input": "2022-09-28T21:42:52.171569Z",
     "iopub.status.busy": "2022-09-28T21:42:52.170368Z",
     "iopub.status.idle": "2022-09-28T21:42:52.180212Z",
     "shell.execute_reply": "2022-09-28T21:42:52.178996Z"
    },
    "papermill": {
     "duration": 0.022608,
     "end_time": "2022-09-28T21:42:52.183560",
     "exception": false,
     "start_time": "2022-09-28T21:42:52.160952",
     "status": "completed"
    },
    "tags": []
   },
   "outputs": [
    {
     "ename": "FileNotFoundError",
     "evalue": "[WinError 3] The system cannot find the path specified: '../input/dermnet/test'",
     "output_type": "error",
     "traceback": [
      "\u001b[1;31m---------------------------------------------------------------------------\u001b[0m",
      "\u001b[1;31mFileNotFoundError\u001b[0m                         Traceback (most recent call last)",
      "Cell \u001b[1;32mIn[4], line 1\u001b[0m\n\u001b[1;32m----> 1\u001b[0m test_list\u001b[38;5;241m=\u001b[39m\u001b[43mos\u001b[49m\u001b[38;5;241;43m.\u001b[39;49m\u001b[43mlistdir\u001b[49m\u001b[43m(\u001b[49m\u001b[38;5;124;43m'\u001b[39;49m\u001b[38;5;124;43m../input/dermnet/test\u001b[39;49m\u001b[38;5;124;43m'\u001b[39;49m\u001b[43m)\u001b[49m \n\u001b[0;32m      2\u001b[0m \u001b[38;5;66;03m#len test_list \u001b[39;00m\n\u001b[0;32m      3\u001b[0m train_list\u001b[38;5;241m=\u001b[39mos\u001b[38;5;241m.\u001b[39mlistdir(\u001b[38;5;124m'\u001b[39m\u001b[38;5;124m../input/dermnet/train\u001b[39m\u001b[38;5;124m'\u001b[39m)\n",
      "\u001b[1;31mFileNotFoundError\u001b[0m: [WinError 3] The system cannot find the path specified: '../input/dermnet/test'"
     ]
    }
   ],
   "source": [
    "test_list=os.listdir('../input/dermnet/test') \n",
    "#len test_list \n",
    "train_list=os.listdir('../input/dermnet/train')\n",
    "#len(train_list) 23\n",
    "\n",
    "#SORTING THEM FOR REFERENCE\n",
    "train_list.sort()\n",
    "test_list.sort()\n",
    "#viewing items\n",
    "#test_list[0:5]\n",
    "\n",
    "print(train_list)"
   ]
  },
  {
   "cell_type": "code",
   "execution_count": 4,
   "id": "0e48a503",
   "metadata": {
    "execution": {
     "iopub.execute_input": "2022-09-28T21:42:52.200912Z",
     "iopub.status.busy": "2022-09-28T21:42:52.200458Z",
     "iopub.status.idle": "2022-09-28T21:42:52.205865Z",
     "shell.execute_reply": "2022-09-28T21:42:52.204608Z"
    },
    "papermill": {
     "duration": 0.016769,
     "end_time": "2022-09-28T21:42:52.208435",
     "exception": false,
     "start_time": "2022-09-28T21:42:52.191666",
     "status": "completed"
    },
    "tags": []
   },
   "outputs": [],
   "source": [
    "train_list_mod=['Acne and Rosacea Photos', 'Actinic Keratosis Basal Cell Carcinoma and other Malignant Lesions', 'Atopic Dermatitis Photos', 'Eczema Photos', 'Nail Fungus and other Nail Disease', 'Psoriasis pictures Lichen Planus and related diseases']"
   ]
  },
  {
   "cell_type": "code",
   "execution_count": 5,
   "id": "2590908e",
   "metadata": {
    "execution": {
     "iopub.execute_input": "2022-09-28T21:42:52.227880Z",
     "iopub.status.busy": "2022-09-28T21:42:52.227486Z",
     "iopub.status.idle": "2022-09-28T21:42:52.236153Z",
     "shell.execute_reply": "2022-09-28T21:42:52.235037Z"
    },
    "papermill": {
     "duration": 0.021081,
     "end_time": "2022-09-28T21:42:52.238343",
     "exception": false,
     "start_time": "2022-09-28T21:42:52.217262",
     "status": "completed"
    },
    "tags": []
   },
   "outputs": [
    {
     "data": {
      "text/plain": [
       "6"
      ]
     },
     "execution_count": 5,
     "metadata": {},
     "output_type": "execute_result"
    }
   ],
   "source": [
    "len(train_list_mod)"
   ]
  },
  {
   "cell_type": "code",
   "execution_count": 6,
   "id": "fdaadf64",
   "metadata": {
    "execution": {
     "iopub.execute_input": "2022-09-28T21:42:52.258939Z",
     "iopub.status.busy": "2022-09-28T21:42:52.258014Z",
     "iopub.status.idle": "2022-09-28T21:42:52.267309Z",
     "shell.execute_reply": "2022-09-28T21:42:52.266312Z"
    },
    "papermill": {
     "duration": 0.021023,
     "end_time": "2022-09-28T21:42:52.269354",
     "exception": false,
     "start_time": "2022-09-28T21:42:52.248331",
     "status": "completed"
    },
    "tags": []
   },
   "outputs": [],
   "source": [
    "def data_dictionary():\n",
    "    path_train=\"../input/dermnet/train/\"\n",
    "    path_test=\"../input/dermnet/test/\"\n",
    "    list_train=train_list_mod#os.listdir(path_train)\n",
    "    train_dictionary={\"image_path\":[],\"target\":[]}\n",
    "    test_dictionary={\"image_path\":[],\"target\":[]}\n",
    "    k=0\n",
    "    for i in list_train:\n",
    "        path_disease_train=path_train+i\n",
    "        path_disease_test=path_test+i\n",
    "        image_list_train=os.listdir(path_disease_train)\n",
    "        image_list_test=os.listdir(path_disease_test)\n",
    "        for j in image_list_train:\n",
    "            img_path_train=path_disease_train+\"/\"+j\n",
    "            train_dictionary[\"image_path\"].append(img_path_train)\n",
    "            train_dictionary['target'].append(k) \n",
    "        for m in image_list_test :\n",
    "            img_path_test=path_disease_test+\"/\"+m\n",
    "            test_dictionary[\"image_path\"].append(img_path_test)\n",
    "            test_dictionary['target'].append(k)\n",
    "        k+=1 \n",
    "    test_df=pd.DataFrame(test_dictionary)\n",
    "    train_df=pd.DataFrame(train_dictionary)\n",
    "        \n",
    "    return  train_df,test_df"
   ]
  },
  {
   "cell_type": "code",
   "execution_count": 7,
   "id": "088d0abb",
   "metadata": {
    "execution": {
     "iopub.execute_input": "2022-09-28T21:42:52.288109Z",
     "iopub.status.busy": "2022-09-28T21:42:52.287246Z",
     "iopub.status.idle": "2022-09-28T21:42:52.677039Z",
     "shell.execute_reply": "2022-09-28T21:42:52.675949Z"
    },
    "papermill": {
     "duration": 0.402188,
     "end_time": "2022-09-28T21:42:52.680191",
     "exception": false,
     "start_time": "2022-09-28T21:42:52.278003",
     "status": "completed"
    },
    "tags": []
   },
   "outputs": [
    {
     "data": {
      "text/plain": [
       "<matplotlib.image.AxesImage at 0x7ff7ca763cd0>"
      ]
     },
     "execution_count": 7,
     "metadata": {},
     "output_type": "execute_result"
    },
    {
     "data": {
      "image/png": "[encoded data removed]",
      "text/plain": [
       "<Figure size 432x288 with 1 Axes>"
      ]
     },
     "metadata": {
      "needs_background": "light"
     },
     "output_type": "display_data"
    }
   ],
   "source": [
    "img=Image.open(\"../input/dermnet/test/Acne and Rosacea Photos/07Rhinophyma1.jpg\")\n",
    "plt.imshow(img)"
   ]
  },
  {
   "cell_type": "code",
   "execution_count": 8,
   "id": "1acd548c",
   "metadata": {
    "execution": {
     "iopub.execute_input": "2022-09-28T21:42:52.703444Z",
     "iopub.status.busy": "2022-09-28T21:42:52.703100Z",
     "iopub.status.idle": "2022-09-28T21:42:52.710840Z",
     "shell.execute_reply": "2022-09-28T21:42:52.709872Z"
    },
    "papermill": {
     "duration": 0.021805,
     "end_time": "2022-09-28T21:42:52.713059",
     "exception": false,
     "start_time": "2022-09-28T21:42:52.691254",
     "status": "completed"
    },
    "tags": []
   },
   "outputs": [],
   "source": [
    "def load_data(input_size=(100,100)):\n",
    "    images=[]\n",
    "    images2=[]\n",
    "    train_df,test_df=data_dictionary()\n",
    "    for i in train_df['image_path']:\n",
    "        img=cv2.imread(i)\n",
    "        img=cv2.resize(img,input_size)\n",
    "        images.append(img)\n",
    "    y_train=np.asarray(train_df['target'])\n",
    "    x_train=np.asarray(images)\n",
    "    for i in test_df['image_path']:\n",
    "        img=cv2.imread(i)\n",
    "        img=cv2.resize(img,input_size)\n",
    "        images2.append(img)\n",
    "    y_test=np.asarray(test_df['target'])\n",
    "    x_test=np.asarray(images2)\n",
    "    return x_train,x_test,y_train,y_test\n",
    "\n"
   ]
  },
  {
   "cell_type": "code",
   "execution_count": 9,
   "id": "b2a439f8",
   "metadata": {
    "execution": {
     "iopub.execute_input": "2022-09-28T21:42:52.735256Z",
     "iopub.status.busy": "2022-09-28T21:42:52.734955Z",
     "iopub.status.idle": "2022-09-28T21:44:46.533349Z",
     "shell.execute_reply": "2022-09-28T21:44:46.532183Z"
    },
    "papermill": {
     "duration": 113.812772,
     "end_time": "2022-09-28T21:44:46.536232",
     "exception": false,
     "start_time": "2022-09-28T21:42:52.723460",
     "status": "completed"
    },
    "tags": []
   },
   "outputs": [],
   "source": [
    "x_train,x_test,y_train,y_test=load_data(input_size=(100,100))"
   ]
  },
  {
   "cell_type": "code",
   "execution_count": 10,
   "id": "d847ad6e",
   "metadata": {
    "execution": {
     "iopub.execute_input": "2022-09-28T21:44:46.559073Z",
     "iopub.status.busy": "2022-09-28T21:44:46.557342Z",
     "iopub.status.idle": "2022-09-28T21:44:46.562958Z",
     "shell.execute_reply": "2022-09-28T21:44:46.561962Z"
    },
    "papermill": {
     "duration": 0.018787,
     "end_time": "2022-09-28T21:44:46.565043",
     "exception": false,
     "start_time": "2022-09-28T21:44:46.546256",
     "status": "completed"
    },
    "tags": []
   },
   "outputs": [],
   "source": [
    "from tensorflow.keras.applications import  VGG19\n",
    "from tensorflow.keras.models import Model\n",
    "from keras.applications.vgg19 import preprocess_input\n"
   ]
  },
  {
   "cell_type": "code",
   "execution_count": 5,
   "id": "7acd0604",
   "metadata": {
    "execution": {
     "iopub.execute_input": "2022-09-28T21:44:46.585413Z",
     "iopub.status.busy": "2022-09-28T21:44:46.585127Z",
     "iopub.status.idle": "2022-09-28T21:44:50.422267Z",
     "shell.execute_reply": "2022-09-28T21:44:50.421259Z"
    },
    "papermill": {
     "duration": 3.850492,
     "end_time": "2022-09-28T21:44:50.425119",
     "exception": false,
     "start_time": "2022-09-28T21:44:46.574627",
     "status": "completed"
    },
    "tags": []
   },
   "outputs": [
    {
     "ename": "NameError",
     "evalue": "name 'VGG19' is not defined",
     "output_type": "error",
     "traceback": [
      "\u001b[1;31m---------------------------------------------------------------------------\u001b[0m",
      "\u001b[1;31mNameError\u001b[0m                                 Traceback (most recent call last)",
      "Cell \u001b[1;32mIn[5], line 1\u001b[0m\n\u001b[1;32m----> 1\u001b[0m vgg16 \u001b[38;5;241m=\u001b[39m \u001b[43mVGG19\u001b[49m(include_top\u001b[38;5;241m=\u001b[39m\u001b[38;5;28;01mFalse\u001b[39;00m,weights\u001b[38;5;241m=\u001b[39m\u001b[38;5;124m'\u001b[39m\u001b[38;5;124mimagenet\u001b[39m\u001b[38;5;124m'\u001b[39m)\n",
      "\u001b[1;31mNameError\u001b[0m: name 'VGG19' is not defined"
     ]
    }
   ],
   "source": [
    "vgg16 = VGG19(include_top=False,weights='imagenet')"
   ]
  },
  {
   "cell_type": "code",
   "execution_count": 12,
   "id": "a7bec239",
   "metadata": {
    "execution": {
     "iopub.execute_input": "2022-09-28T21:44:50.447739Z",
     "iopub.status.busy": "2022-09-28T21:44:50.447429Z",
     "iopub.status.idle": "2022-09-28T21:44:50.467452Z",
     "shell.execute_reply": "2022-09-28T21:44:50.463859Z"
    },
    "papermill": {
     "duration": 0.03445,
     "end_time": "2022-09-28T21:44:50.470652",
     "exception": false,
     "start_time": "2022-09-28T21:44:50.436202",
     "status": "completed"
    },
    "tags": []
   },
   "outputs": [
    {
     "name": "stdout",
     "output_type": "stream",
     "text": [
      "Model: \"vgg19\"\n",
      "_________________________________________________________________\n",
      "Layer (type)                 Output Shape              Param #   \n",
      "=================================================================\n",
      "input_1 (InputLayer)         [(None, None, None, 3)]   0         \n",
      "_________________________________________________________________\n",
      "block1_conv1 (Conv2D)        (None, None, None, 64)    1792      \n",
      "_________________________________________________________________\n",
      "block1_conv2 (Conv2D)        (None, None, None, 64)    36928     \n",
      "_________________________________________________________________\n",
      "block1_pool (MaxPooling2D)   (None, None, None, 64)    0         \n",
      "_________________________________________________________________\n",
      "block2_conv1 (Conv2D)        (None, None, None, 128)   73856     \n",
      "_________________________________________________________________\n",
      "block2_conv2 (Conv2D)        (None, None, None, 128)   147584    \n",
      "_________________________________________________________________\n",
      "block2_pool (MaxPooling2D)   (None, None, None, 128)   0         \n",
      "_________________________________________________________________\n",
      "block3_conv1 (Conv2D)        (None, None, None, 256)   295168    \n",
      "_________________________________________________________________\n",
      "block3_conv2 (Conv2D)        (None, None, None, 256)   590080    \n",
      "_________________________________________________________________\n",
      "block3_conv3 (Conv2D)        (None, None, None, 256)   590080    \n",
      "_________________________________________________________________\n",
      "block3_conv4 (Conv2D)        (None, None, None, 256)   590080    \n",
      "_________________________________________________________________\n",
      "block3_pool (MaxPooling2D)   (None, None, None, 256)   0         \n",
      "_________________________________________________________________\n",
      "block4_conv1 (Conv2D)        (None, None, None, 512)   1180160   \n",
      "_________________________________________________________________\n",
      "block4_conv2 (Conv2D)        (None, None, None, 512)   2359808   \n",
      "_________________________________________________________________\n",
      "block4_conv3 (Conv2D)        (None, None, None, 512)   2359808   \n",
      "_________________________________________________________________\n",
      "block4_conv4 (Conv2D)        (None, None, None, 512)   2359808   \n",
      "_________________________________________________________________\n",
      "block4_pool (MaxPooling2D)   (None, None, None, 512)   0         \n",
      "_________________________________________________________________\n",
      "block5_conv1 (Conv2D)        (None, None, None, 512)   2359808   \n",
      "_________________________________________________________________\n",
      "block5_conv2 (Conv2D)        (None, None, None, 512)   2359808   \n",
      "_________________________________________________________________\n",
      "block5_conv3 (Conv2D)        (None, None, None, 512)   2359808   \n",
      "_________________________________________________________________\n",
      "block5_conv4 (Conv2D)        (None, None, None, 512)   2359808   \n",
      "_________________________________________________________________\n",
      "block5_pool (MaxPooling2D)   (None, None, None, 512)   0         \n",
      "=================================================================\n",
      "Total params: 20,024,384\n",
      "Trainable params: 20,024,384\n",
      "Non-trainable params: 0\n",
      "_________________________________________________________________\n"
     ]
    }
   ],
   "source": [
    "vgg16.summary()\n"
   ]
  },
  {
   "cell_type": "code",
   "execution_count": 13,
   "id": "c9c732e7",
   "metadata": {
    "execution": {
     "iopub.execute_input": "2022-09-28T21:44:50.520428Z",
     "iopub.status.busy": "2022-09-28T21:44:50.519875Z",
     "iopub.status.idle": "2022-09-28T21:44:50.595125Z",
     "shell.execute_reply": "2022-09-28T21:44:50.593658Z"
    },
    "papermill": {
     "duration": 0.103954,
     "end_time": "2022-09-28T21:44:50.598345",
     "exception": false,
     "start_time": "2022-09-28T21:44:50.494391",
     "status": "completed"
    },
    "tags": []
   },
   "outputs": [],
   "source": [
    "import joblib"
   ]
  },
  {
   "cell_type": "code",
   "execution_count": 14,
   "id": "8ddc5b2c",
   "metadata": {
    "execution": {
     "iopub.execute_input": "2022-09-28T21:44:50.635316Z",
     "iopub.status.busy": "2022-09-28T21:44:50.634797Z",
     "iopub.status.idle": "2022-09-28T21:44:50.896876Z",
     "shell.execute_reply": "2022-09-28T21:44:50.895886Z"
    },
    "papermill": {
     "duration": 0.28397,
     "end_time": "2022-09-28T21:44:50.899928",
     "exception": false,
     "start_time": "2022-09-28T21:44:50.615958",
     "status": "completed"
    },
    "tags": []
   },
   "outputs": [],
   "source": [
    "filename=\"vgg16.sav\"\n",
    "joblib.dump(vgg16,open(filename,'wb'))"
   ]
  },
  {
   "cell_type": "code",
   "execution_count": 15,
   "id": "f3368986",
   "metadata": {
    "execution": {
     "iopub.execute_input": "2022-09-28T21:44:50.933725Z",
     "iopub.status.busy": "2022-09-28T21:44:50.933239Z",
     "iopub.status.idle": "2022-09-28T21:44:51.099555Z",
     "shell.execute_reply": "2022-09-28T21:44:51.098255Z"
    },
    "papermill": {
     "duration": 0.18582,
     "end_time": "2022-09-28T21:44:51.102511",
     "exception": false,
     "start_time": "2022-09-28T21:44:50.916691",
     "status": "completed"
    },
    "tags": []
   },
   "outputs": [],
   "source": [
    "vgg19=joblib.load(\"vgg16.sav\")"
   ]
  },
  {
   "cell_type": "code",
   "execution_count": 16,
   "id": "7873cc99",
   "metadata": {
    "execution": {
     "iopub.execute_input": "2022-09-28T21:44:51.138864Z",
     "iopub.status.busy": "2022-09-28T21:44:51.138512Z",
     "iopub.status.idle": "2022-09-28T21:44:51.889091Z",
     "shell.execute_reply": "2022-09-28T21:44:51.887985Z"
    },
    "papermill": {
     "duration": 0.771802,
     "end_time": "2022-09-28T21:44:51.892199",
     "exception": false,
     "start_time": "2022-09-28T21:44:51.120397",
     "status": "completed"
    },
    "tags": []
   },
   "outputs": [],
   "source": [
    "train_img=preprocess_input(x_train)\n",
    "test_img=preprocess_input(x_test)"
   ]
  },
  {
   "cell_type": "code",
   "execution_count": 17,
   "id": "dd1bb641",
   "metadata": {
    "execution": {
     "iopub.execute_input": "2022-09-28T21:44:51.931270Z",
     "iopub.status.busy": "2022-09-28T21:44:51.930706Z",
     "iopub.status.idle": "2022-09-28T21:45:05.337867Z",
     "shell.execute_reply": "2022-09-28T21:45:05.336792Z"
    },
    "papermill": {
     "duration": 13.428264,
     "end_time": "2022-09-28T21:45:05.340356",
     "exception": false,
     "start_time": "2022-09-28T21:44:51.912092",
     "status": "completed"
    },
    "tags": []
   },
   "outputs": [
    {
     "name": "stderr",
     "output_type": "stream",
     "text": [
      "2022-09-28 21:44:54.296681: I tensorflow/compiler/mlir/mlir_graph_optimization_pass.cc:185] None of the MLIR Optimization Passes are enabled (registered 2)\n",
      "2022-09-28 21:44:55.320478: I tensorflow/stream_executor/cuda/cuda_dnn.cc:369] Loaded cuDNN version 8005\n"
     ]
    }
   ],
   "source": [
    "features_train=vgg16.predict(train_img)"
   ]
  },
  {
   "cell_type": "code",
   "execution_count": 18,
   "id": "ec2d7fd1",
   "metadata": {
    "execution": {
     "iopub.execute_input": "2022-09-28T21:45:05.363255Z",
     "iopub.status.busy": "2022-09-28T21:45:05.362932Z",
     "iopub.status.idle": "2022-09-28T21:45:07.257796Z",
     "shell.execute_reply": "2022-09-28T21:45:07.256774Z"
    },
    "papermill": {
     "duration": 1.909169,
     "end_time": "2022-09-28T21:45:07.260319",
     "exception": false,
     "start_time": "2022-09-28T21:45:05.351150",
     "status": "completed"
    },
    "tags": []
   },
   "outputs": [],
   "source": [
    "features_test=vgg16.predict(test_img)"
   ]
  },
  {
   "cell_type": "code",
   "execution_count": 19,
   "id": "b91f5e19",
   "metadata": {
    "execution": {
     "iopub.execute_input": "2022-09-28T21:45:07.284354Z",
     "iopub.status.busy": "2022-09-28T21:45:07.284041Z",
     "iopub.status.idle": "2022-09-28T21:45:07.290021Z",
     "shell.execute_reply": "2022-09-28T21:45:07.289124Z"
    },
    "papermill": {
     "duration": 0.020218,
     "end_time": "2022-09-28T21:45:07.291987",
     "exception": false,
     "start_time": "2022-09-28T21:45:07.271769",
     "status": "completed"
    },
    "tags": []
   },
   "outputs": [
    {
     "data": {
      "text/plain": [
       "(6158, 3, 3, 512)"
      ]
     },
     "execution_count": 19,
     "metadata": {},
     "output_type": "execute_result"
    }
   ],
   "source": [
    "features_train.shape"
   ]
  },
  {
   "cell_type": "code",
   "execution_count": 20,
   "id": "4fb08a7b",
   "metadata": {
    "execution": {
     "iopub.execute_input": "2022-09-28T21:45:07.315028Z",
     "iopub.status.busy": "2022-09-28T21:45:07.314632Z",
     "iopub.status.idle": "2022-09-28T21:45:07.322678Z",
     "shell.execute_reply": "2022-09-28T21:45:07.321762Z"
    },
    "papermill": {
     "duration": 0.021894,
     "end_time": "2022-09-28T21:45:07.324985",
     "exception": false,
     "start_time": "2022-09-28T21:45:07.303091",
     "status": "completed"
    },
    "tags": []
   },
   "outputs": [
    {
     "data": {
      "text/plain": [
       "(1645, 3, 3, 512)"
      ]
     },
     "execution_count": 20,
     "metadata": {},
     "output_type": "execute_result"
    }
   ],
   "source": [
    "features_test.shape"
   ]
  },
  {
   "cell_type": "code",
   "execution_count": 21,
   "id": "783db7c2",
   "metadata": {
    "execution": {
     "iopub.execute_input": "2022-09-28T21:45:07.347529Z",
     "iopub.status.busy": "2022-09-28T21:45:07.347234Z",
     "iopub.status.idle": "2022-09-28T21:45:07.352895Z",
     "shell.execute_reply": "2022-09-28T21:45:07.351974Z"
    },
    "papermill": {
     "duration": 0.019541,
     "end_time": "2022-09-28T21:45:07.355218",
     "exception": false,
     "start_time": "2022-09-28T21:45:07.335677",
     "status": "completed"
    },
    "tags": []
   },
   "outputs": [],
   "source": [
    "num_train=x_train.shape[0]\n",
    "num_test=x_test.shape[0]\n"
   ]
  },
  {
   "cell_type": "code",
   "execution_count": null,
   "id": "cd4df9d2",
   "metadata": {
    "papermill": {
     "duration": 0.010792,
     "end_time": "2022-09-28T21:45:07.376671",
     "exception": false,
     "start_time": "2022-09-28T21:45:07.365879",
     "status": "completed"
    },
    "tags": []
   },
   "outputs": [],
   "source": []
  },
  {
   "cell_type": "code",
   "execution_count": 22,
   "id": "c787e70f",
   "metadata": {
    "execution": {
     "iopub.execute_input": "2022-09-28T21:45:07.399982Z",
     "iopub.status.busy": "2022-09-28T21:45:07.399147Z",
     "iopub.status.idle": "2022-09-28T21:45:07.404716Z",
     "shell.execute_reply": "2022-09-28T21:45:07.403824Z"
    },
    "papermill": {
     "duration": 0.019022,
     "end_time": "2022-09-28T21:45:07.406749",
     "exception": false,
     "start_time": "2022-09-28T21:45:07.387727",
     "status": "completed"
    },
    "tags": []
   },
   "outputs": [],
   "source": [
    "x_train=features_train.reshape(num_train,4608)\n",
    "x_test=features_test.reshape(num_test,4608)"
   ]
  },
  {
   "cell_type": "code",
   "execution_count": 23,
   "id": "99e0c107",
   "metadata": {
    "execution": {
     "iopub.execute_input": "2022-09-28T21:45:07.429468Z",
     "iopub.status.busy": "2022-09-28T21:45:07.429178Z",
     "iopub.status.idle": "2022-09-28T21:45:07.434320Z",
     "shell.execute_reply": "2022-09-28T21:45:07.432851Z"
    },
    "papermill": {
     "duration": 0.018928,
     "end_time": "2022-09-28T21:45:07.436418",
     "exception": false,
     "start_time": "2022-09-28T21:45:07.417490",
     "status": "completed"
    },
    "tags": []
   },
   "outputs": [],
   "source": [
    "from tensorflow.keras.models import Sequential\n",
    "from tensorflow.keras.layers import Conv2D,MaxPooling2D,Flatten, Dense"
   ]
  },
  {
   "cell_type": "code",
   "execution_count": 24,
   "id": "6065e7dd",
   "metadata": {
    "execution": {
     "iopub.execute_input": "2022-09-28T21:45:07.458817Z",
     "iopub.status.busy": "2022-09-28T21:45:07.458525Z",
     "iopub.status.idle": "2022-09-28T21:45:07.470163Z",
     "shell.execute_reply": "2022-09-28T21:45:07.469278Z"
    },
    "papermill": {
     "duration": 0.025388,
     "end_time": "2022-09-28T21:45:07.472138",
     "exception": false,
     "start_time": "2022-09-28T21:45:07.446750",
     "status": "completed"
    },
    "tags": []
   },
   "outputs": [],
   "source": [
    "model=Sequential([ Dense(1024,activation='relu'),\n",
    "                   Dense(512,activation='relu'),\n",
    "                  Dense(256,activation='relu'),\n",
    "                  Dense(128,activation='relu'),\n",
    "                  Dense(6,activation='sigmoid'),\n",
    "\n",
    "])"
   ]
  },
  {
   "cell_type": "code",
   "execution_count": 25,
   "id": "8173596c",
   "metadata": {
    "execution": {
     "iopub.execute_input": "2022-09-28T21:45:07.495068Z",
     "iopub.status.busy": "2022-09-28T21:45:07.494264Z",
     "iopub.status.idle": "2022-09-28T21:45:07.507103Z",
     "shell.execute_reply": "2022-09-28T21:45:07.506031Z"
    },
    "papermill": {
     "duration": 0.026224,
     "end_time": "2022-09-28T21:45:07.509153",
     "exception": false,
     "start_time": "2022-09-28T21:45:07.482929",
     "status": "completed"
    },
    "tags": []
   },
   "outputs": [],
   "source": [
    "model.compile(optimizer='adam',loss=tf.keras.losses.SparseCategoricalCrossentropy(),metrics=['accuracy'])"
   ]
  },
  {
   "cell_type": "code",
   "execution_count": 26,
   "id": "d691bc92",
   "metadata": {
    "execution": {
     "iopub.execute_input": "2022-09-28T21:45:07.531553Z",
     "iopub.status.busy": "2022-09-28T21:45:07.531248Z",
     "iopub.status.idle": "2022-09-28T21:45:49.144794Z",
     "shell.execute_reply": "2022-09-28T21:45:49.143841Z"
    },
    "papermill": {
     "duration": 41.661874,
     "end_time": "2022-09-28T21:45:49.181523",
     "exception": false,
     "start_time": "2022-09-28T21:45:07.519649",
     "status": "completed"
    },
    "tags": []
   },
   "outputs": [
    {
     "name": "stdout",
     "output_type": "stream",
     "text": [
      "Epoch 1/40\n",
      "193/193 [==============================] - 1s 4ms/step - loss: 1.8203 - accuracy: 0.4987 - val_loss: 1.1370 - val_accuracy: 0.5726\n",
      "Epoch 2/40\n",
      "193/193 [==============================] - 1s 3ms/step - loss: 0.8337 - accuracy: 0.6963 - val_loss: 1.0574 - val_accuracy: 0.6286\n",
      "Epoch 3/40\n",
      "193/193 [==============================] - 1s 3ms/step - loss: 0.5614 - accuracy: 0.7988 - val_loss: 1.1509 - val_accuracy: 0.6328\n",
      "Epoch 4/40\n",
      "193/193 [==============================] - 1s 3ms/step - loss: 0.3923 - accuracy: 0.8613 - val_loss: 1.2618 - val_accuracy: 0.6486\n",
      "Epoch 5/40\n",
      "193/193 [==============================] - 1s 3ms/step - loss: 0.2812 - accuracy: 0.9071 - val_loss: 1.3089 - val_accuracy: 0.6632\n",
      "Epoch 6/40\n",
      "193/193 [==============================] - 1s 3ms/step - loss: 0.2360 - accuracy: 0.9216 - val_loss: 1.3783 - val_accuracy: 0.6626\n",
      "Epoch 7/40\n",
      "193/193 [==============================] - 1s 3ms/step - loss: 0.2265 - accuracy: 0.9219 - val_loss: 1.2926 - val_accuracy: 0.6766\n",
      "Epoch 8/40\n",
      "193/193 [==============================] - 1s 3ms/step - loss: 0.1777 - accuracy: 0.9401 - val_loss: 1.3930 - val_accuracy: 0.6948\n",
      "Epoch 9/40\n",
      "193/193 [==============================] - 1s 4ms/step - loss: 0.1076 - accuracy: 0.9636 - val_loss: 1.6195 - val_accuracy: 0.6985\n",
      "Epoch 10/40\n",
      "193/193 [==============================] - 1s 3ms/step - loss: 0.1531 - accuracy: 0.9493 - val_loss: 1.3580 - val_accuracy: 0.6967\n",
      "Epoch 11/40\n",
      "193/193 [==============================] - 1s 3ms/step - loss: 0.1294 - accuracy: 0.9578 - val_loss: 1.7765 - val_accuracy: 0.6705\n",
      "Epoch 12/40\n",
      "193/193 [==============================] - 1s 3ms/step - loss: 0.1775 - accuracy: 0.9485 - val_loss: 1.5404 - val_accuracy: 0.6772\n",
      "Epoch 13/40\n",
      "193/193 [==============================] - 1s 3ms/step - loss: 0.1347 - accuracy: 0.9536 - val_loss: 1.5578 - val_accuracy: 0.6930\n",
      "Epoch 14/40\n",
      "193/193 [==============================] - 1s 3ms/step - loss: 0.0818 - accuracy: 0.9654 - val_loss: 1.8511 - val_accuracy: 0.6948\n",
      "Epoch 15/40\n",
      "193/193 [==============================] - 1s 3ms/step - loss: 0.0840 - accuracy: 0.9662 - val_loss: 2.2135 - val_accuracy: 0.6766\n",
      "Epoch 16/40\n",
      "193/193 [==============================] - 1s 3ms/step - loss: 0.1019 - accuracy: 0.9617 - val_loss: 1.9479 - val_accuracy: 0.6681\n",
      "Epoch 17/40\n",
      "193/193 [==============================] - 1s 3ms/step - loss: 0.1321 - accuracy: 0.9583 - val_loss: 1.8130 - val_accuracy: 0.6517\n",
      "Epoch 18/40\n",
      "193/193 [==============================] - 1s 3ms/step - loss: 0.0978 - accuracy: 0.9633 - val_loss: 1.9184 - val_accuracy: 0.6687\n",
      "Epoch 19/40\n",
      "193/193 [==============================] - 1s 3ms/step - loss: 0.0716 - accuracy: 0.9695 - val_loss: 2.0568 - val_accuracy: 0.6900\n",
      "Epoch 20/40\n",
      "193/193 [==============================] - 1s 3ms/step - loss: 0.0586 - accuracy: 0.9739 - val_loss: 2.0413 - val_accuracy: 0.6888\n",
      "Epoch 21/40\n",
      "193/193 [==============================] - 1s 3ms/step - loss: 0.0879 - accuracy: 0.9687 - val_loss: 1.7149 - val_accuracy: 0.6857\n",
      "Epoch 22/40\n",
      "193/193 [==============================] - 1s 5ms/step - loss: 0.0662 - accuracy: 0.9714 - val_loss: 1.8837 - val_accuracy: 0.6796\n",
      "Epoch 23/40\n",
      "193/193 [==============================] - 1s 4ms/step - loss: 0.0794 - accuracy: 0.9685 - val_loss: 2.0145 - val_accuracy: 0.6948\n",
      "Epoch 24/40\n",
      "193/193 [==============================] - 1s 3ms/step - loss: 0.0780 - accuracy: 0.9704 - val_loss: 2.0499 - val_accuracy: 0.6906\n",
      "Epoch 25/40\n",
      "193/193 [==============================] - 1s 4ms/step - loss: 0.1233 - accuracy: 0.9579 - val_loss: 2.0368 - val_accuracy: 0.6960\n",
      "Epoch 26/40\n",
      "193/193 [==============================] - 1s 4ms/step - loss: 0.0960 - accuracy: 0.9649 - val_loss: 1.9147 - val_accuracy: 0.6815\n",
      "Epoch 27/40\n",
      "193/193 [==============================] - 1s 3ms/step - loss: 0.0860 - accuracy: 0.9690 - val_loss: 2.0530 - val_accuracy: 0.6906\n",
      "Epoch 28/40\n",
      "193/193 [==============================] - 1s 3ms/step - loss: 0.0672 - accuracy: 0.9711 - val_loss: 2.0822 - val_accuracy: 0.6979\n",
      "Epoch 29/40\n",
      "193/193 [==============================] - 1s 3ms/step - loss: 0.0507 - accuracy: 0.9755 - val_loss: 1.9517 - val_accuracy: 0.6784\n",
      "Epoch 30/40\n",
      "193/193 [==============================] - 1s 3ms/step - loss: 0.0534 - accuracy: 0.9776 - val_loss: 1.9246 - val_accuracy: 0.6997\n",
      "Epoch 31/40\n",
      "193/193 [==============================] - 1s 3ms/step - loss: 0.0563 - accuracy: 0.9768 - val_loss: 2.2264 - val_accuracy: 0.6821\n",
      "Epoch 32/40\n",
      "193/193 [==============================] - 1s 3ms/step - loss: 0.0868 - accuracy: 0.9706 - val_loss: 2.0251 - val_accuracy: 0.6888\n",
      "Epoch 33/40\n",
      "193/193 [==============================] - 1s 3ms/step - loss: 0.0649 - accuracy: 0.9768 - val_loss: 1.9396 - val_accuracy: 0.6930\n",
      "Epoch 34/40\n",
      "193/193 [==============================] - 1s 3ms/step - loss: 0.0596 - accuracy: 0.9755 - val_loss: 1.7656 - val_accuracy: 0.6821\n",
      "Epoch 35/40\n",
      "193/193 [==============================] - 1s 3ms/step - loss: 0.0644 - accuracy: 0.9713 - val_loss: 2.2355 - val_accuracy: 0.6948\n",
      "Epoch 36/40\n",
      "193/193 [==============================] - 1s 3ms/step - loss: 0.0570 - accuracy: 0.9771 - val_loss: 2.2564 - val_accuracy: 0.6736\n",
      "Epoch 37/40\n",
      "193/193 [==============================] - 1s 3ms/step - loss: 0.0430 - accuracy: 0.9766 - val_loss: 2.4709 - val_accuracy: 0.6912\n",
      "Epoch 38/40\n",
      "193/193 [==============================] - 1s 3ms/step - loss: 0.0613 - accuracy: 0.9774 - val_loss: 2.4172 - val_accuracy: 0.6809\n",
      "Epoch 39/40\n",
      "193/193 [==============================] - 1s 3ms/step - loss: 0.1065 - accuracy: 0.9625 - val_loss: 2.1630 - val_accuracy: 0.6821\n",
      "Epoch 40/40\n",
      "193/193 [==============================] - 1s 3ms/step - loss: 0.0892 - accuracy: 0.9695 - val_loss: 2.1002 - val_accuracy: 0.6967\n"
     ]
    },
    {
     "data": {
      "text/plain": [
       "<keras.callbacks.History at 0x7ff7bffcf6d0>"
      ]
     },
     "execution_count": 26,
     "metadata": {},
     "output_type": "execute_result"
    }
   ],
   "source": [
    "model.fit(x_train,y_train,batch_size=32,epochs=40,validation_data=(x_test,y_test))"
   ]
  },
  {
   "cell_type": "code",
   "execution_count": 27,
   "id": "bb7471b4",
   "metadata": {
    "execution": {
     "iopub.execute_input": "2022-09-28T21:45:49.252238Z",
     "iopub.status.busy": "2022-09-28T21:45:49.251269Z",
     "iopub.status.idle": "2022-09-28T21:45:49.468023Z",
     "shell.execute_reply": "2022-09-28T21:45:49.467024Z"
    },
    "papermill": {
     "duration": 0.254429,
     "end_time": "2022-09-28T21:45:49.470373",
     "exception": false,
     "start_time": "2022-09-28T21:45:49.215944",
     "status": "completed"
    },
    "tags": []
   },
   "outputs": [
    {
     "data": {
      "image/png": "[encoded data removed]",
      "text/plain": [
       "<Figure size 432x288 with 1 Axes>"
      ]
     },
     "metadata": {
      "needs_background": "light"
     },
     "output_type": "display_data"
    }
   ],
   "source": [
    "plt.plot(model.history.history['accuracy'],label=\"train_accuracy\")\n",
    "plt.plot(model.history.history['val_accuracy'],label=\"validation_accuracy\")\n",
    "plt.legend()\n",
    "plt.show()\n"
   ]
  },
  {
   "cell_type": "code",
   "execution_count": 28,
   "id": "dc844a40",
   "metadata": {
    "execution": {
     "iopub.execute_input": "2022-09-28T21:45:49.544945Z",
     "iopub.status.busy": "2022-09-28T21:45:49.543913Z",
     "iopub.status.idle": "2022-09-28T21:45:49.550578Z",
     "shell.execute_reply": "2022-09-28T21:45:49.549616Z"
    },
    "papermill": {
     "duration": 0.045694,
     "end_time": "2022-09-28T21:45:49.552700",
     "exception": false,
     "start_time": "2022-09-28T21:45:49.507006",
     "status": "completed"
    },
    "tags": []
   },
   "outputs": [],
   "source": [
    "    \n",
    "def load_img(img_path):\n",
    "    images=[]\n",
    "    img=cv2.imread(img_path)\n",
    "    img=cv2.resize(img,(100,100))\n",
    "    images.append(img)\n",
    "    x_test=np.asarray(images)\n",
    "    test_img=preprocess_input(x_test)\n",
    "    features_test=vgg16.predict(test_img)\n",
    "    num_test=x_test.shape[0]\n",
    "    f_img=features_test.reshape(num_test,4608)\n",
    "    \n",
    "    return f_img\n",
    "    "
   ]
  },
  {
   "cell_type": "code",
   "execution_count": 29,
   "id": "4d38d42c",
   "metadata": {
    "execution": {
     "iopub.execute_input": "2022-09-28T21:45:49.628480Z",
     "iopub.status.busy": "2022-09-28T21:45:49.628091Z",
     "iopub.status.idle": "2022-09-28T21:45:49.790154Z",
     "shell.execute_reply": "2022-09-28T21:45:49.789049Z"
    },
    "papermill": {
     "duration": 0.203187,
     "end_time": "2022-09-28T21:45:49.792717",
     "exception": false,
     "start_time": "2022-09-28T21:45:49.589530",
     "status": "completed"
    },
    "tags": []
   },
   "outputs": [],
   "source": [
    "img=load_img(\"../input/dermnet/test/Actinic Keratosis Basal Cell Carcinoma and other Malignant Lesions/actinic-cheilitis-sq-cell-lip-20.jpg\")"
   ]
  },
  {
   "cell_type": "code",
   "execution_count": 30,
   "id": "10374e8a",
   "metadata": {
    "execution": {
     "iopub.execute_input": "2022-09-28T21:45:49.871418Z",
     "iopub.status.busy": "2022-09-28T21:45:49.870459Z",
     "iopub.status.idle": "2022-09-28T21:45:49.969465Z",
     "shell.execute_reply": "2022-09-28T21:45:49.968234Z"
    },
    "papermill": {
     "duration": 0.137377,
     "end_time": "2022-09-28T21:45:49.971533",
     "exception": false,
     "start_time": "2022-09-28T21:45:49.834156",
     "status": "completed"
    },
    "tags": []
   },
   "outputs": [
    {
     "data": {
      "text/plain": [
       "5"
      ]
     },
     "execution_count": 30,
     "metadata": {},
     "output_type": "execute_result"
    }
   ],
   "source": [
    "np.argmax(model.predict(img))"
   ]
  },
  {
   "cell_type": "code",
   "execution_count": 31,
   "id": "33b66847",
   "metadata": {
    "execution": {
     "iopub.execute_input": "2022-09-28T21:45:50.043109Z",
     "iopub.status.busy": "2022-09-28T21:45:50.042751Z",
     "iopub.status.idle": "2022-09-28T21:45:50.047308Z",
     "shell.execute_reply": "2022-09-28T21:45:50.046242Z"
    },
    "papermill": {
     "duration": 0.043857,
     "end_time": "2022-09-28T21:45:50.049933",
     "exception": false,
     "start_time": "2022-09-28T21:45:50.006076",
     "status": "completed"
    },
    "tags": []
   },
   "outputs": [],
   "source": [
    "import pickle"
   ]
  },
  {
   "cell_type": "code",
   "execution_count": 32,
   "id": "8e6ed385",
   "metadata": {
    "execution": {
     "iopub.execute_input": "2022-09-28T21:45:50.120559Z",
     "iopub.status.busy": "2022-09-28T21:45:50.120241Z",
     "iopub.status.idle": "2022-09-28T21:45:52.184833Z",
     "shell.execute_reply": "2022-09-28T21:45:52.183773Z"
    },
    "papermill": {
     "duration": 2.103045,
     "end_time": "2022-09-28T21:45:52.187741",
     "exception": false,
     "start_time": "2022-09-28T21:45:50.084696",
     "status": "completed"
    },
    "tags": []
   },
   "outputs": [
    {
     "name": "stderr",
     "output_type": "stream",
     "text": [
      "2022-09-28 21:45:51.451896: W tensorflow/python/util/util.cc:348] Sets are not currently considered sequences, but this may change in the future, so consider avoiding using them.\n"
     ]
    }
   ],
   "source": [
    "!mkdir -p saved_model\n",
    "model.save('saved_model/skin_model')"
   ]
  },
  {
   "cell_type": "code",
   "execution_count": 33,
   "id": "39385f4a",
   "metadata": {
    "execution": {
     "iopub.execute_input": "2022-09-28T21:45:52.260224Z",
     "iopub.status.busy": "2022-09-28T21:45:52.259890Z",
     "iopub.status.idle": "2022-09-28T21:45:52.264238Z",
     "shell.execute_reply": "2022-09-28T21:45:52.263244Z"
    },
    "papermill": {
     "duration": 0.043547,
     "end_time": "2022-09-28T21:45:52.266400",
     "exception": false,
     "start_time": "2022-09-28T21:45:52.222853",
     "status": "completed"
    },
    "tags": []
   },
   "outputs": [],
   "source": [
    "#filename=\"skin_model.pkl\"\n",
    "#joblib.dump(model,open(filename,'wb'))"
   ]
  },
  {
   "cell_type": "code",
   "execution_count": null,
   "id": "cd53b6c8",
   "metadata": {
    "papermill": {
     "duration": 0.034657,
     "end_time": "2022-09-28T21:45:52.335910",
     "exception": false,
     "start_time": "2022-09-28T21:45:52.301253",
     "status": "completed"
    },
    "tags": []
   },
   "outputs": [],
   "source": [
    "\n"
   ]
  },
  {
   "cell_type": "code",
   "execution_count": 34,
   "id": "74fb3136",
   "metadata": {
    "execution": {
     "iopub.execute_input": "2022-09-28T21:45:52.408729Z",
     "iopub.status.busy": "2022-09-28T21:45:52.408407Z",
     "iopub.status.idle": "2022-09-28T21:45:52.754133Z",
     "shell.execute_reply": "2022-09-28T21:45:52.753062Z"
    },
    "papermill": {
     "duration": 0.385546,
     "end_time": "2022-09-28T21:45:52.757113",
     "exception": false,
     "start_time": "2022-09-28T21:45:52.371567",
     "status": "completed"
    },
    "tags": []
   },
   "outputs": [
    {
     "name": "stdout",
     "output_type": "stream",
     "text": [
      "Model: \"sequential\"\n",
      "_________________________________________________________________\n",
      "Layer (type)                 Output Shape              Param #   \n",
      "=================================================================\n",
      "dense (Dense)                (None, 1024)              4719616   \n",
      "_________________________________________________________________\n",
      "dense_1 (Dense)              (None, 512)               524800    \n",
      "_________________________________________________________________\n",
      "dense_2 (Dense)              (None, 256)               131328    \n",
      "_________________________________________________________________\n",
      "dense_3 (Dense)              (None, 128)               32896     \n",
      "_________________________________________________________________\n",
      "dense_4 (Dense)              (None, 6)                 774       \n",
      "=================================================================\n",
      "Total params: 5,409,414\n",
      "Trainable params: 5,409,414\n",
      "Non-trainable params: 0\n",
      "_________________________________________________________________\n"
     ]
    }
   ],
   "source": [
    "new_model = tf.keras.models.load_model('saved_model/skin_model')\n",
    "\n",
    "# Check its architecture\n",
    "new_model.summary()"
   ]
  },
  {
   "cell_type": "code",
   "execution_count": 35,
   "id": "6e217116",
   "metadata": {
    "execution": {
     "iopub.execute_input": "2022-09-28T21:45:52.831857Z",
     "iopub.status.busy": "2022-09-28T21:45:52.830745Z",
     "iopub.status.idle": "2022-09-28T21:45:52.913754Z",
     "shell.execute_reply": "2022-09-28T21:45:52.912761Z"
    },
    "papermill": {
     "duration": 0.122484,
     "end_time": "2022-09-28T21:45:52.915976",
     "exception": false,
     "start_time": "2022-09-28T21:45:52.793492",
     "status": "completed"
    },
    "tags": []
   },
   "outputs": [
    {
     "data": {
      "text/plain": [
       "5"
      ]
     },
     "execution_count": 35,
     "metadata": {},
     "output_type": "execute_result"
    }
   ],
   "source": [
    "np.argmax(new_model.predict(img))"
   ]
  },
  {
   "cell_type": "code",
   "execution_count": null,
   "id": "bd240dcb",
   "metadata": {
    "papermill": {
     "duration": 0.036363,
     "end_time": "2022-09-28T21:45:52.997018",
     "exception": false,
     "start_time": "2022-09-28T21:45:52.960655",
     "status": "completed"
    },
    "tags": []
   },
   "outputs": [],
   "source": []
  },
  {
   "cell_type": "code",
   "execution_count": null,
   "id": "83d5f128",
   "metadata": {
    "papermill": {
     "duration": 0.036633,
     "end_time": "2022-09-28T21:45:53.071057",
     "exception": false,
     "start_time": "2022-09-28T21:45:53.034424",
     "status": "completed"
    },
    "tags": []
   },
   "outputs": [],
   "source": []
  }
 ],
 "metadata": {
  "kernelspec": {
   "display_name": "Python 3.8.10 64-bit",
   "language": "python",
   "name": "python3"
  },
  "language_info": {
   "codemirror_mode": {
    "name": "ipython",
    "version": 3
   },
   "file_extension": ".py",
   "mimetype": "text/x-python",
   "name": "python",
   "nbconvert_exporter": "python",
   "pygments_lexer": "ipython3",
   "version": "3.8.10"
  },
  "papermill": {
   "default_parameters": {},
   "duration": 217.492707,
   "end_time": "2022-09-28T21:45:56.831973",
   "environment_variables": {},
   "exception": null,
   "input_path": "__notebook__.ipynb",
   "output_path": "__notebook__.ipynb",
   "parameters": {},
   "start_time": "2022-09-28T21:42:19.339266",
   "version": "2.3.4"
  },
  "vscode": {
   "interpreter": {
    "hash": "20141c798a67ade216fcf0982f439f7828f9a541c3566781dfc0264767dead37"
   }
  }
 },
 "nbformat": 4,
 "nbformat_minor": 5
}
